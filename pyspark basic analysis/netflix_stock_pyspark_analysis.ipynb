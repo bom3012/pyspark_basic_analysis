{
 "cells": [
  {
   "cell_type": "code",
   "execution_count": 1,
   "id": "9b1ff68c",
   "metadata": {},
   "outputs": [
    {
     "data": {
      "text/plain": [
       "<AxesSubplot:xlabel='Date'>"
      ]
     },
     "execution_count": 1,
     "metadata": {},
     "output_type": "execute_result"
    },
    {
     "data": {
      "image/png": "[encoded data removed]",
      "text/plain": [
       "<Figure size 432x288 with 1 Axes>"
      ]
     },
     "metadata": {
      "needs_background": "light"
     },
     "output_type": "display_data"
    }
   ],
   "source": [
    "import FinanceDataReader as fdr\n",
    "df= fdr.DataReader('NFLX','2002')\n",
    "df['Close'].plot()"
   ]
  },
  {
   "cell_type": "code",
   "execution_count": 2,
   "id": "f59b2088",
   "metadata": {},
   "outputs": [],
   "source": [
    "from pyspark.sql import SparkSession"
   ]
  },
  {
   "cell_type": "code",
   "execution_count": 3,
   "id": "753ff111",
   "metadata": {},
   "outputs": [],
   "source": [
    "spark = SparkSession.builder.appName(\"Operation\").getOrCreate()"
   ]
  },
  {
   "cell_type": "code",
   "execution_count": 4,
   "id": "6ebafc04",
   "metadata": {},
   "outputs": [],
   "source": [
    "df=spark.read.csv('NetFlix.csv',inferSchema=True,header=True)"
   ]
  },
  {
   "cell_type": "code",
   "execution_count": 5,
   "id": "86547f07",
   "metadata": {},
   "outputs": [
    {
     "name": "stdout",
     "output_type": "stream",
     "text": [
      "root\n",
      " |-- Date: string (nullable = true)\n",
      " |-- Open: double (nullable = true)\n",
      " |-- High: double (nullable = true)\n",
      " |-- Low: double (nullable = true)\n",
      " |-- Close: double (nullable = true)\n",
      " |-- Adj Close: double (nullable = true)\n",
      " |-- Volume: integer (nullable = true)\n",
      "\n"
     ]
    }
   ],
   "source": [
    "df.printSchema()"
   ]
  },
  {
   "cell_type": "code",
   "execution_count": 6,
   "id": "a88be397",
   "metadata": {},
   "outputs": [
    {
     "name": "stdout",
     "output_type": "stream",
     "text": [
      "+----------+--------+--------+--------+--------+---------+---------+\n",
      "|      Date|    Open|    High|     Low|   Close|Adj Close|   Volume|\n",
      "+----------+--------+--------+--------+--------+---------+---------+\n",
      "|2002-05-23|1.156429|1.242857|1.145714|1.196429| 1.196429|104790000|\n",
      "|2002-05-24|1.214286|   1.225|1.197143|    1.21|     1.21| 11104800|\n",
      "|2002-05-28|1.213571|1.232143|1.157143|1.157143| 1.157143|  6609400|\n",
      "|2002-05-29|1.164286|1.164286|1.085714|1.103571| 1.103571|  6757800|\n",
      "|2002-05-30|1.107857|1.107857|1.071429|1.071429| 1.071429| 10154200|\n",
      "|2002-05-31|1.078571|1.078571|1.071429|1.076429| 1.076429|  8464400|\n",
      "|2002-06-03|    1.08|1.149286|1.076429|1.128571| 1.128571|  3151400|\n",
      "|2002-06-04|1.135714|    1.14|1.110714|1.117857| 1.117857|  3105200|\n",
      "|2002-06-05|1.110714|1.159286|1.107143|1.147143| 1.147143|  1531600|\n",
      "|2002-06-06|    1.15|1.232143|1.148571|1.182143| 1.182143|  2305800|\n",
      "|2002-06-07|1.177857|1.177857|1.103571|1.118571| 1.118571|  1369200|\n",
      "|2002-06-10|   1.135|   1.175|1.134286|1.156429| 1.156429|   484400|\n",
      "|2002-06-11|1.156429|1.188571|1.128571|1.153571| 1.153571|  1003800|\n",
      "|2002-06-12|1.153571|1.182143|1.089286|1.092857| 1.092857|  1799000|\n",
      "|2002-06-13|1.104286|1.122143|    1.08|1.082857| 1.082857|  2567600|\n",
      "|2002-06-14|1.082143|1.085714|    0.98|0.986429| 0.986429|  4783800|\n",
      "|2002-06-17|1.013571|1.059286|0.917857|0.922143| 0.922143|  4855200|\n",
      "|2002-06-18|0.938571|0.939286|0.842143|0.910714| 0.910714| 10808000|\n",
      "|2002-06-19|0.911429|0.996429|0.892857|0.951429| 0.951429|  5482400|\n",
      "|2002-06-20|0.971429|    1.04|    0.95|0.957143| 0.957143|  6111000|\n",
      "+----------+--------+--------+--------+--------+---------+---------+\n",
      "only showing top 20 rows\n",
      "\n"
     ]
    }
   ],
   "source": [
    "df.show()"
   ]
  },
  {
   "cell_type": "markdown",
   "id": "f10977fa",
   "metadata": {},
   "source": [
    "데이터 세로로 출력하기"
   ]
  },
  {
   "cell_type": "code",
   "execution_count": 7,
   "id": "e73f0039",
   "metadata": {},
   "outputs": [
    {
     "name": "stdout",
     "output_type": "stream",
     "text": [
      "-RECORD 0---------------\n",
      " Date      | 2002-05-23 \n",
      " Open      | 1.156429   \n",
      " High      | 1.242857   \n",
      " Low       | 1.145714   \n",
      " Close     | 1.196429   \n",
      " Adj Close | 1.196429   \n",
      " Volume    | 104790000  \n",
      "-RECORD 1---------------\n",
      " Date      | 2002-05-24 \n",
      " Open      | 1.214286   \n",
      " High      | 1.225      \n",
      " Low       | 1.197143   \n",
      " Close     | 1.21       \n",
      " Adj Close | 1.21       \n",
      " Volume    | 11104800   \n",
      "-RECORD 2---------------\n",
      " Date      | 2002-05-28 \n",
      " Open      | 1.213571   \n",
      " High      | 1.232143   \n",
      " Low       | 1.157143   \n",
      " Close     | 1.157143   \n",
      " Adj Close | 1.157143   \n",
      " Volume    | 6609400    \n",
      "-RECORD 3---------------\n",
      " Date      | 2002-05-29 \n",
      " Open      | 1.164286   \n",
      " High      | 1.164286   \n",
      " Low       | 1.085714   \n",
      " Close     | 1.103571   \n",
      " Adj Close | 1.103571   \n",
      " Volume    | 6757800    \n",
      "-RECORD 4---------------\n",
      " Date      | 2002-05-30 \n",
      " Open      | 1.107857   \n",
      " High      | 1.107857   \n",
      " Low       | 1.071429   \n",
      " Close     | 1.071429   \n",
      " Adj Close | 1.071429   \n",
      " Volume    | 10154200   \n",
      "-RECORD 5---------------\n",
      " Date      | 2002-05-31 \n",
      " Open      | 1.078571   \n",
      " High      | 1.078571   \n",
      " Low       | 1.071429   \n",
      " Close     | 1.076429   \n",
      " Adj Close | 1.076429   \n",
      " Volume    | 8464400    \n",
      "-RECORD 6---------------\n",
      " Date      | 2002-06-03 \n",
      " Open      | 1.08       \n",
      " High      | 1.149286   \n",
      " Low       | 1.076429   \n",
      " Close     | 1.128571   \n",
      " Adj Close | 1.128571   \n",
      " Volume    | 3151400    \n",
      "-RECORD 7---------------\n",
      " Date      | 2002-06-04 \n",
      " Open      | 1.135714   \n",
      " High      | 1.14       \n",
      " Low       | 1.110714   \n",
      " Close     | 1.117857   \n",
      " Adj Close | 1.117857   \n",
      " Volume    | 3105200    \n",
      "-RECORD 8---------------\n",
      " Date      | 2002-06-05 \n",
      " Open      | 1.110714   \n",
      " High      | 1.159286   \n",
      " Low       | 1.107143   \n",
      " Close     | 1.147143   \n",
      " Adj Close | 1.147143   \n",
      " Volume    | 1531600    \n",
      "-RECORD 9---------------\n",
      " Date      | 2002-06-06 \n",
      " Open      | 1.15       \n",
      " High      | 1.232143   \n",
      " Low       | 1.148571   \n",
      " Close     | 1.182143   \n",
      " Adj Close | 1.182143   \n",
      " Volume    | 2305800    \n",
      "-RECORD 10--------------\n",
      " Date      | 2002-06-07 \n",
      " Open      | 1.177857   \n",
      " High      | 1.177857   \n",
      " Low       | 1.103571   \n",
      " Close     | 1.118571   \n",
      " Adj Close | 1.118571   \n",
      " Volume    | 1369200    \n",
      "-RECORD 11--------------\n",
      " Date      | 2002-06-10 \n",
      " Open      | 1.135      \n",
      " High      | 1.175      \n",
      " Low       | 1.134286   \n",
      " Close     | 1.156429   \n",
      " Adj Close | 1.156429   \n",
      " Volume    | 484400     \n",
      "-RECORD 12--------------\n",
      " Date      | 2002-06-11 \n",
      " Open      | 1.156429   \n",
      " High      | 1.188571   \n",
      " Low       | 1.128571   \n",
      " Close     | 1.153571   \n",
      " Adj Close | 1.153571   \n",
      " Volume    | 1003800    \n",
      "-RECORD 13--------------\n",
      " Date      | 2002-06-12 \n",
      " Open      | 1.153571   \n",
      " High      | 1.182143   \n",
      " Low       | 1.089286   \n",
      " Close     | 1.092857   \n",
      " Adj Close | 1.092857   \n",
      " Volume    | 1799000    \n",
      "-RECORD 14--------------\n",
      " Date      | 2002-06-13 \n",
      " Open      | 1.104286   \n",
      " High      | 1.122143   \n",
      " Low       | 1.08       \n",
      " Close     | 1.082857   \n",
      " Adj Close | 1.082857   \n",
      " Volume    | 2567600    \n",
      "-RECORD 15--------------\n",
      " Date      | 2002-06-14 \n",
      " Open      | 1.082143   \n",
      " High      | 1.085714   \n",
      " Low       | 0.98       \n",
      " Close     | 0.986429   \n",
      " Adj Close | 0.986429   \n",
      " Volume    | 4783800    \n",
      "-RECORD 16--------------\n",
      " Date      | 2002-06-17 \n",
      " Open      | 1.013571   \n",
      " High      | 1.059286   \n",
      " Low       | 0.917857   \n",
      " Close     | 0.922143   \n",
      " Adj Close | 0.922143   \n",
      " Volume    | 4855200    \n",
      "-RECORD 17--------------\n",
      " Date      | 2002-06-18 \n",
      " Open      | 0.938571   \n",
      " High      | 0.939286   \n",
      " Low       | 0.842143   \n",
      " Close     | 0.910714   \n",
      " Adj Close | 0.910714   \n",
      " Volume    | 10808000   \n",
      "-RECORD 18--------------\n",
      " Date      | 2002-06-19 \n",
      " Open      | 0.911429   \n",
      " High      | 0.996429   \n",
      " Low       | 0.892857   \n",
      " Close     | 0.951429   \n",
      " Adj Close | 0.951429   \n",
      " Volume    | 5482400    \n",
      "-RECORD 19--------------\n",
      " Date      | 2002-06-20 \n",
      " Open      | 0.971429   \n",
      " High      | 1.04       \n",
      " Low       | 0.95       \n",
      " Close     | 0.957143   \n",
      " Adj Close | 0.957143   \n",
      " Volume    | 6111000    \n",
      "only showing top 20 rows\n",
      "\n"
     ]
    }
   ],
   "source": [
    "df.show(vertical=True)"
   ]
  },
  {
   "cell_type": "code",
   "execution_count": 8,
   "id": "aed9f519",
   "metadata": {},
   "outputs": [
    {
     "data": {
      "text/plain": [
       "[Row(Date='2002-05-23', Open=1.156429, High=1.242857, Low=1.145714, Close=1.196429, Adj Close=1.196429, Volume=104790000),\n",
       " Row(Date='2002-05-24', Open=1.214286, High=1.225, Low=1.197143, Close=1.21, Adj Close=1.21, Volume=11104800),\n",
       " Row(Date='2002-05-28', Open=1.213571, High=1.232143, Low=1.157143, Close=1.157143, Adj Close=1.157143, Volume=6609400),\n",
       " Row(Date='2002-05-29', Open=1.164286, High=1.164286, Low=1.085714, Close=1.103571, Adj Close=1.103571, Volume=6757800),\n",
       " Row(Date='2002-05-30', Open=1.107857, High=1.107857, Low=1.071429, Close=1.071429, Adj Close=1.071429, Volume=10154200),\n",
       " Row(Date='2002-05-31', Open=1.078571, High=1.078571, Low=1.071429, Close=1.076429, Adj Close=1.076429, Volume=8464400),\n",
       " Row(Date='2002-06-03', Open=1.08, High=1.149286, Low=1.076429, Close=1.128571, Adj Close=1.128571, Volume=3151400),\n",
       " Row(Date='2002-06-04', Open=1.135714, High=1.14, Low=1.110714, Close=1.117857, Adj Close=1.117857, Volume=3105200),\n",
       " Row(Date='2002-06-05', Open=1.110714, High=1.159286, Low=1.107143, Close=1.147143, Adj Close=1.147143, Volume=1531600),\n",
       " Row(Date='2002-06-06', Open=1.15, High=1.232143, Low=1.148571, Close=1.182143, Adj Close=1.182143, Volume=2305800)]"
      ]
     },
     "execution_count": 8,
     "metadata": {},
     "output_type": "execute_result"
    }
   ],
   "source": [
    "df.head(10)"
   ]
  },
  {
   "cell_type": "code",
   "execution_count": 9,
   "id": "54ea8203",
   "metadata": {},
   "outputs": [
    {
     "data": {
      "text/plain": [
       "[Row(Date='2022-05-09', Open=177.660004, High=183.199997, Low=172.300003, Close=173.100006, Adj Close=173.100006, Volume=14031300),\n",
       " Row(Date='2022-05-10', Open=176.009995, High=181.869995, Low=170.570007, Close=177.660004, Adj Close=177.660004, Volume=13883900),\n",
       " Row(Date='2022-05-11', Open=176.089996, High=180.919998, Low=165.550003, Close=166.369995, Adj Close=166.369995, Volume=12665500),\n",
       " Row(Date='2022-05-12', Open=163.960007, High=177.580002, Low=162.710007, Close=174.309998, Adj Close=174.309998, Volume=17662100),\n",
       " Row(Date='2022-05-13', Open=177.160004, High=187.770004, Low=176.009995, Close=187.639999, Adj Close=187.639999, Volume=13103800),\n",
       " Row(Date='2022-05-16', Open=193.300003, High=195.889999, Low=185.699997, Close=186.509995, Adj Close=186.509995, Volume=16145000),\n",
       " Row(Date='2022-05-17', Open=189.169998, High=191.399994, Low=185.169998, Close=190.559998, Adj Close=190.559998, Volume=9876700),\n",
       " Row(Date='2022-05-18', Open=186.720001, High=187.699997, Low=176.270004, Close=177.190002, Adj Close=177.190002, Volume=9665600),\n",
       " Row(Date='2022-05-19', Open=178.050003, High=186.300003, Low=175.710007, Close=183.479996, Adj Close=183.479996, Volume=10448500),\n",
       " Row(Date='2022-05-20', Open=185.869995, High=190.190002, Low=179.770004, Close=186.350006, Adj Close=186.350006, Volume=10422600)]"
      ]
     },
     "execution_count": 9,
     "metadata": {},
     "output_type": "execute_result"
    }
   ],
   "source": [
    "df.tail(10)"
   ]
  },
  {
   "cell_type": "code",
   "execution_count": 10,
   "id": "bd3e9d61",
   "metadata": {},
   "outputs": [
    {
     "name": "stdout",
     "output_type": "stream",
     "text": [
      "+-------+----------+------------------+------------------+------------------+------------------+------------------+--------------------+\n",
      "|summary|      Date|              Open|              High|               Low|             Close|         Adj Close|              Volume|\n",
      "+-------+----------+------------------+------------------+------------------+------------------+------------------+--------------------+\n",
      "|  count|      5035|              5035|              5035|              5035|              5035|              5035|                5035|\n",
      "|   mean|      null|116.33552091976176|118.09934004885785| 114.4496801467728|116.31959274875885|116.31959274875885|1.6544523138033764E7|\n",
      "| stddev|      null|168.86228644844005|171.26231967782934|166.23993920957338|168.78764157991918|168.78764157991918|1.9259211917164586E7|\n",
      "|    min|2002-05-23|          0.377857|          0.410714|          0.346429|          0.372857|          0.372857|              285600|\n",
      "|    max|2022-05-20|        692.349976|         700.98999|        686.090027|        691.690002|        691.690002|           323414000|\n",
      "+-------+----------+------------------+------------------+------------------+------------------+------------------+--------------------+\n",
      "\n"
     ]
    }
   ],
   "source": [
    "df.describe().show()"
   ]
  },
  {
   "cell_type": "code",
   "execution_count": 11,
   "id": "e2ff0528",
   "metadata": {},
   "outputs": [
    {
     "data": {
      "text/plain": [
       "[('Date', 'string'),\n",
       " ('Open', 'double'),\n",
       " ('High', 'double'),\n",
       " ('Low', 'double'),\n",
       " ('Close', 'double'),\n",
       " ('Adj Close', 'double'),\n",
       " ('Volume', 'int')]"
      ]
     },
     "execution_count": 11,
     "metadata": {},
     "output_type": "execute_result"
    }
   ],
   "source": [
    "df.dtypes"
   ]
  },
  {
   "cell_type": "code",
   "execution_count": 12,
   "id": "0e9d6034",
   "metadata": {},
   "outputs": [
    {
     "data": {
      "text/plain": [
       "['Date', 'Open', 'High', 'Low', 'Close', 'Adj Close', 'Volume']"
      ]
     },
     "execution_count": 12,
     "metadata": {},
     "output_type": "execute_result"
    }
   ],
   "source": [
    "df.columns"
   ]
  },
  {
   "cell_type": "markdown",
   "id": "32dfcd66",
   "metadata": {},
   "source": [
    "where및filter조건문으로 데이터 보여주기"
   ]
  },
  {
   "cell_type": "code",
   "execution_count": 13,
   "id": "5072b4e8",
   "metadata": {},
   "outputs": [
    {
     "name": "stdout",
     "output_type": "stream",
     "text": [
      "+----------+----------+----------+----------+----------+----------+-------+\n",
      "|      Date|      Open|      High|       Low|     Close| Adj Close| Volume|\n",
      "+----------+----------+----------+----------+----------+----------+-------+\n",
      "|2021-10-22|651.809998|665.460022|651.809998|664.780029|664.780029|6186000|\n",
      "|2021-10-25| 663.73999|675.880005|657.070007|671.659973|671.659973|3833500|\n",
      "|2021-10-26| 673.76001| 676.48999| 662.77002| 668.52002| 668.52002|2904800|\n",
      "|2021-10-27|     669.0|671.409973|661.849976|662.919983|662.919983|2276900|\n",
      "|2021-10-28|670.950012|676.799988|668.030029|674.049988|674.049988|2859400|\n",
      "|2021-10-29|673.059998|690.969971| 671.23999|690.309998|690.309998|3825300|\n",
      "|2021-11-01|689.059998|689.969971|676.539978|681.169983|681.169983|3110900|\n",
      "|2021-11-02|683.109985|687.679993|673.820007|677.719971|677.719971|3888600|\n",
      "|2021-11-03| 677.27002|689.390015| 677.27002|688.289978|688.289978|2334900|\n",
      "|2021-11-04|685.890015|685.940002|     665.5|668.400024|668.400024|4865000|\n",
      "|2021-11-05|663.969971|665.640015| 645.01001|645.719971|645.719971|5283500|\n",
      "|2021-11-08|650.289978|     656.0|643.789978|651.450012|651.450012|2887500|\n",
      "|2021-11-09|653.700012|     660.5| 650.52002| 655.98999| 655.98999|2415600|\n",
      "|2021-11-10| 653.01001|660.330017|642.109985|646.909973|646.909973|2405800|\n",
      "|2021-11-11| 650.23999|665.820007|649.710022|657.580017|657.580017|2868300|\n",
      "|2021-11-12| 660.01001|683.340027|653.820007|682.609985|682.609985|4198400|\n",
      "|2021-11-15| 681.23999| 685.26001| 671.48999|679.330017|679.330017|2872200|\n",
      "|2021-11-16| 678.27002|688.359985|676.900024|687.400024|687.400024|2077400|\n",
      "|2021-11-17|     690.0| 700.98999|686.090027|691.690002|691.690002|2732800|\n",
      "|2021-11-18|691.609985| 691.73999| 679.73999| 682.02002| 682.02002|2012900|\n",
      "+----------+----------+----------+----------+----------+----------+-------+\n",
      "only showing top 20 rows\n",
      "\n"
     ]
    }
   ],
   "source": [
    "df.filter(df['Open']>650).show()"
   ]
  },
  {
   "cell_type": "code",
   "execution_count": 14,
   "id": "32516af2",
   "metadata": {},
   "outputs": [
    {
     "name": "stdout",
     "output_type": "stream",
     "text": [
      "+----------+----------+----------+----------+----------+----------+-------+\n",
      "|      Date|      Open|      High|       Low|     Close| Adj Close| Volume|\n",
      "+----------+----------+----------+----------+----------+----------+-------+\n",
      "|2021-10-22|651.809998|665.460022|651.809998|664.780029|664.780029|6186000|\n",
      "|2021-10-25| 663.73999|675.880005|657.070007|671.659973|671.659973|3833500|\n",
      "|2021-10-26| 673.76001| 676.48999| 662.77002| 668.52002| 668.52002|2904800|\n",
      "|2021-10-27|     669.0|671.409973|661.849976|662.919983|662.919983|2276900|\n",
      "|2021-10-28|670.950012|676.799988|668.030029|674.049988|674.049988|2859400|\n",
      "|2021-10-29|673.059998|690.969971| 671.23999|690.309998|690.309998|3825300|\n",
      "|2021-11-01|689.059998|689.969971|676.539978|681.169983|681.169983|3110900|\n",
      "|2021-11-02|683.109985|687.679993|673.820007|677.719971|677.719971|3888600|\n",
      "|2021-11-03| 677.27002|689.390015| 677.27002|688.289978|688.289978|2334900|\n",
      "|2021-11-04|685.890015|685.940002|     665.5|668.400024|668.400024|4865000|\n",
      "|2021-11-08|650.289978|     656.0|643.789978|651.450012|651.450012|2887500|\n",
      "|2021-11-09|653.700012|     660.5| 650.52002| 655.98999| 655.98999|2415600|\n",
      "|2021-11-11| 650.23999|665.820007|649.710022|657.580017|657.580017|2868300|\n",
      "|2021-11-12| 660.01001|683.340027|653.820007|682.609985|682.609985|4198400|\n",
      "|2021-11-15| 681.23999| 685.26001| 671.48999|679.330017|679.330017|2872200|\n",
      "|2021-11-16| 678.27002|688.359985|676.900024|687.400024|687.400024|2077400|\n",
      "|2021-11-17|     690.0| 700.98999|686.090027|691.690002|691.690002|2732800|\n",
      "|2021-11-18|691.609985| 691.73999| 679.73999| 682.02002| 682.02002|2012900|\n",
      "|2021-11-19|692.349976|694.159973|     675.0|678.799988|678.799988|2613700|\n",
      "|2021-11-22| 676.02002| 679.47998|656.469971|659.200012|659.200012|2764400|\n",
      "+----------+----------+----------+----------+----------+----------+-------+\n",
      "only showing top 20 rows\n",
      "\n"
     ]
    }
   ],
   "source": [
    "df.filter((df['Open']>650)& (df['Close']>650)).show()"
   ]
  },
  {
   "cell_type": "code",
   "execution_count": 15,
   "id": "9a20baf7",
   "metadata": {},
   "outputs": [
    {
     "name": "stdout",
     "output_type": "stream",
     "text": [
      "+----------+----------+----------+----------+----------+----------+-------+\n",
      "|      Date|      Open|      High|       Low|     Close| Adj Close| Volume|\n",
      "+----------+----------+----------+----------+----------+----------+-------+\n",
      "|2021-11-05|663.969971|665.640015| 645.01001|645.719971|645.719971|5283500|\n",
      "|2021-11-10| 653.01001|660.330017|642.109985|646.909973|646.909973|2405800|\n",
      "|2021-11-30|668.200012|675.380005| 640.01001|641.900024|641.900024|5608900|\n",
      "+----------+----------+----------+----------+----------+----------+-------+\n",
      "\n"
     ]
    }
   ],
   "source": [
    "df.filter((df['Open']>650)& (df['Close']<650)).show()"
   ]
  },
  {
   "cell_type": "code",
   "execution_count": 16,
   "id": "0a0a8d62",
   "metadata": {},
   "outputs": [
    {
     "name": "stdout",
     "output_type": "stream",
     "text": [
      "+----------+----------+----------+----------+----------+----------+-------+\n",
      "|      Date|      Open|      High|       Low|     Close| Adj Close| Volume|\n",
      "+----------+----------+----------+----------+----------+----------+-------+\n",
      "|2021-10-21|628.890015| 654.01001|628.650024|653.159973|653.159973|8437100|\n",
      "|2021-10-22|651.809998|665.460022|651.809998|664.780029|664.780029|6186000|\n",
      "|2021-10-25| 663.73999|675.880005|657.070007|671.659973|671.659973|3833500|\n",
      "|2021-10-26| 673.76001| 676.48999| 662.77002| 668.52002| 668.52002|2904800|\n",
      "|2021-10-27|     669.0|671.409973|661.849976|662.919983|662.919983|2276900|\n",
      "|2021-10-28|670.950012|676.799988|668.030029|674.049988|674.049988|2859400|\n",
      "|2021-10-29|673.059998|690.969971| 671.23999|690.309998|690.309998|3825300|\n",
      "|2021-11-01|689.059998|689.969971|676.539978|681.169983|681.169983|3110900|\n",
      "|2021-11-02|683.109985|687.679993|673.820007|677.719971|677.719971|3888600|\n",
      "|2021-11-03| 677.27002|689.390015| 677.27002|688.289978|688.289978|2334900|\n",
      "|2021-11-04|685.890015|685.940002|     665.5|668.400024|668.400024|4865000|\n",
      "|2021-11-08|650.289978|     656.0|643.789978|651.450012|651.450012|2887500|\n",
      "|2021-11-09|653.700012|     660.5| 650.52002| 655.98999| 655.98999|2415600|\n",
      "|2021-11-11| 650.23999|665.820007|649.710022|657.580017|657.580017|2868300|\n",
      "|2021-11-12| 660.01001|683.340027|653.820007|682.609985|682.609985|4198400|\n",
      "|2021-11-15| 681.23999| 685.26001| 671.48999|679.330017|679.330017|2872200|\n",
      "|2021-11-16| 678.27002|688.359985|676.900024|687.400024|687.400024|2077400|\n",
      "|2021-11-17|     690.0| 700.98999|686.090027|691.690002|691.690002|2732800|\n",
      "|2021-11-18|691.609985| 691.73999| 679.73999| 682.02002| 682.02002|2012900|\n",
      "|2021-11-19|692.349976|694.159973|     675.0|678.799988|678.799988|2613700|\n",
      "+----------+----------+----------+----------+----------+----------+-------+\n",
      "only showing top 20 rows\n",
      "\n"
     ]
    }
   ],
   "source": [
    "df.where(\"Close>650\").show()"
   ]
  },
  {
   "cell_type": "code",
   "execution_count": 17,
   "id": "394dce81",
   "metadata": {},
   "outputs": [
    {
     "name": "stdout",
     "output_type": "stream",
     "text": [
      "+-------+------------------+\n",
      "|summary|             Close|\n",
      "+-------+------------------+\n",
      "|  count|              5035|\n",
      "|   mean|116.31959274875885|\n",
      "| stddev|168.78764157991918|\n",
      "|    min|          0.372857|\n",
      "|    max|        691.690002|\n",
      "+-------+------------------+\n",
      "\n"
     ]
    }
   ],
   "source": [
    "df.describe(['Close']).show()"
   ]
  },
  {
   "cell_type": "code",
   "execution_count": 18,
   "id": "172afb0c",
   "metadata": {},
   "outputs": [
    {
     "name": "stdout",
     "output_type": "stream",
     "text": [
      "+-------+------------------+\n",
      "|summary|              Open|\n",
      "+-------+------------------+\n",
      "|  count|              5035|\n",
      "|   mean|116.33552091976176|\n",
      "| stddev|168.86228644844005|\n",
      "|    min|          0.377857|\n",
      "|    max|        692.349976|\n",
      "+-------+------------------+\n",
      "\n"
     ]
    }
   ],
   "source": [
    "df.describe(['Open']).show()"
   ]
  },
  {
   "cell_type": "markdown",
   "id": "61c5c5c6",
   "metadata": {},
   "source": [
    "논리적 및 물리적 인쇄하기."
   ]
  },
  {
   "cell_type": "code",
   "execution_count": 19,
   "id": "b4a17d25",
   "metadata": {},
   "outputs": [
    {
     "name": "stdout",
     "output_type": "stream",
     "text": [
      "== Parsed Logical Plan ==\n",
      "Relation[Date#16,Open#17,High#18,Low#19,Close#20,Adj Close#21,Volume#22] csv\n",
      "\n",
      "== Analyzed Logical Plan ==\n",
      "Date: string, Open: double, High: double, Low: double, Close: double, Adj Close: double, Volume: int\n",
      "Relation[Date#16,Open#17,High#18,Low#19,Close#20,Adj Close#21,Volume#22] csv\n",
      "\n",
      "== Optimized Logical Plan ==\n",
      "Relation[Date#16,Open#17,High#18,Low#19,Close#20,Adj Close#21,Volume#22] csv\n",
      "\n",
      "== Physical Plan ==\n",
      "FileScan csv [Date#16,Open#17,High#18,Low#19,Close#20,Adj Close#21,Volume#22] Batched: false, DataFilters: [], Format: CSV, Location: InMemoryFileIndex[file:/C:/Users/dothi/빅데이터분석/p15/NetFlix.csv], PartitionFilters: [], PushedFilters: [], ReadSchema: struct<Date:string,Open:double,High:double,Low:double,Close:double,Adj Close:double,Volume:int>\n",
      "\n"
     ]
    }
   ],
   "source": [
    "df.explain(True)"
   ]
  },
  {
   "cell_type": "markdown",
   "id": "3dea5e7e",
   "metadata": {},
   "source": [
    "전체 데이터 평균값을 출력하기"
   ]
  },
  {
   "cell_type": "code",
   "execution_count": 20,
   "id": "c2bb63a4",
   "metadata": {},
   "outputs": [
    {
     "name": "stdout",
     "output_type": "stream",
     "text": [
      "+------------------+------------------+-----------------+------------------+------------------+--------------------+\n",
      "|         avg(Open)|         avg(High)|         avg(Low)|        avg(Close)|    avg(Adj Close)|         avg(Volume)|\n",
      "+------------------+------------------+-----------------+------------------+------------------+--------------------+\n",
      "|116.33552091976176|118.09934004885785|114.4496801467728|116.31959274875885|116.31959274875885|1.6544523138033764E7|\n",
      "+------------------+------------------+-----------------+------------------+------------------+--------------------+\n",
      "\n"
     ]
    }
   ],
   "source": [
    "df.groupBy().avg().show()"
   ]
  },
  {
   "cell_type": "code",
   "execution_count": 21,
   "id": "dd59cd9e",
   "metadata": {},
   "outputs": [
    {
     "data": {
      "text/plain": [
       "[Row(avg(Open)=116.33552091976176, avg(High)=118.09934004885785, avg(Low)=114.4496801467728, avg(Close)=116.31959274875885, avg(Adj Close)=116.31959274875885, avg(Volume)=16544523.138033764)]"
      ]
     },
     "execution_count": 21,
     "metadata": {},
     "output_type": "execute_result"
    }
   ],
   "source": [
    "df.groupBy().avg().collect()"
   ]
  },
  {
   "cell_type": "markdown",
   "id": "c3fb5139",
   "metadata": {},
   "source": [
    "지정된 수로 데이터 보기"
   ]
  },
  {
   "cell_type": "code",
   "execution_count": 22,
   "id": "5a672235",
   "metadata": {},
   "outputs": [
    {
     "name": "stdout",
     "output_type": "stream",
     "text": [
      "+----------+--------+--------+--------+--------+---------+---------+\n",
      "|      Date|    Open|    High|     Low|   Close|Adj Close|   Volume|\n",
      "+----------+--------+--------+--------+--------+---------+---------+\n",
      "|2002-05-23|1.156429|1.242857|1.145714|1.196429| 1.196429|104790000|\n",
      "+----------+--------+--------+--------+--------+---------+---------+\n",
      "\n"
     ]
    }
   ],
   "source": [
    "df.limit(1).show()"
   ]
  },
  {
   "cell_type": "markdown",
   "id": "2972f2be",
   "metadata": {},
   "source": [
    "정렬된 새로운 DataFrame을 반환하기."
   ]
  },
  {
   "cell_type": "code",
   "execution_count": 23,
   "id": "1de76cc1",
   "metadata": {},
   "outputs": [
    {
     "name": "stdout",
     "output_type": "stream",
     "text": [
      "+----------+----------+----------+----------+----------+----------+-------+\n",
      "|      Date|      Open|      High|       Low|     Close| Adj Close| Volume|\n",
      "+----------+----------+----------+----------+----------+----------+-------+\n",
      "|2021-11-17|     690.0| 700.98999|686.090027|691.690002|691.690002|2732800|\n",
      "|2021-10-29|673.059998|690.969971| 671.23999|690.309998|690.309998|3825300|\n",
      "|2021-11-03| 677.27002|689.390015| 677.27002|688.289978|688.289978|2334900|\n",
      "|2021-11-16| 678.27002|688.359985|676.900024|687.400024|687.400024|2077400|\n",
      "|2021-11-12| 660.01001|683.340027|653.820007|682.609985|682.609985|4198400|\n",
      "|2021-11-18|691.609985| 691.73999| 679.73999| 682.02002| 682.02002|2012900|\n",
      "|2021-11-01|689.059998|689.969971|676.539978|681.169983|681.169983|3110900|\n",
      "|2021-11-15| 681.23999| 685.26001| 671.48999|679.330017|679.330017|2872200|\n",
      "|2021-11-19|692.349976|694.159973|     675.0|678.799988|678.799988|2613700|\n",
      "|2021-11-02|683.109985|687.679993|673.820007|677.719971|677.719971|3888600|\n",
      "|2021-10-28|670.950012|676.799988|668.030029|674.049988|674.049988|2859400|\n",
      "|2021-10-25| 663.73999|675.880005|657.070007|671.659973|671.659973|3833500|\n",
      "|2021-10-26| 673.76001| 676.48999| 662.77002| 668.52002| 668.52002|2904800|\n",
      "|2021-11-04|685.890015|685.940002|     665.5|668.400024|668.400024|4865000|\n",
      "|2021-11-26|     675.0|676.409973|660.669983|665.640015|665.640015|2872500|\n",
      "|2021-10-22|651.809998|665.460022|651.809998|664.780029|664.780029|6186000|\n",
      "|2021-11-29|663.200012| 667.98999|658.289978|663.840027|663.840027|2529400|\n",
      "|2021-10-27|     669.0|671.409973|661.849976|662.919983|662.919983|2276900|\n",
      "|2021-11-22| 676.02002| 679.47998|656.469971|659.200012|659.200012|2764400|\n",
      "|2021-11-24| 658.01001|661.440002|651.099976|658.289978|658.289978|1867300|\n",
      "+----------+----------+----------+----------+----------+----------+-------+\n",
      "only showing top 20 rows\n",
      "\n"
     ]
    }
   ],
   "source": [
    "df.sort(df.Close.desc()).show()"
   ]
  },
  {
   "cell_type": "markdown",
   "id": "a3895fac",
   "metadata": {},
   "source": [
    "내림차순"
   ]
  },
  {
   "cell_type": "code",
   "execution_count": 24,
   "id": "9423e6ea",
   "metadata": {},
   "outputs": [
    {
     "name": "stdout",
     "output_type": "stream",
     "text": [
      "+----------+----------+----------+----------+----------+----------+-------+\n",
      "|      Date|      Open|      High|       Low|     Close| Adj Close| Volume|\n",
      "+----------+----------+----------+----------+----------+----------+-------+\n",
      "|2021-11-17|     690.0| 700.98999|686.090027|691.690002|691.690002|2732800|\n",
      "|2021-10-29|673.059998|690.969971| 671.23999|690.309998|690.309998|3825300|\n",
      "|2021-11-03| 677.27002|689.390015| 677.27002|688.289978|688.289978|2334900|\n",
      "|2021-11-16| 678.27002|688.359985|676.900024|687.400024|687.400024|2077400|\n",
      "|2021-11-12| 660.01001|683.340027|653.820007|682.609985|682.609985|4198400|\n",
      "|2021-11-18|691.609985| 691.73999| 679.73999| 682.02002| 682.02002|2012900|\n",
      "|2021-11-01|689.059998|689.969971|676.539978|681.169983|681.169983|3110900|\n",
      "|2021-11-15| 681.23999| 685.26001| 671.48999|679.330017|679.330017|2872200|\n",
      "|2021-11-19|692.349976|694.159973|     675.0|678.799988|678.799988|2613700|\n",
      "|2021-11-02|683.109985|687.679993|673.820007|677.719971|677.719971|3888600|\n",
      "|2021-10-28|670.950012|676.799988|668.030029|674.049988|674.049988|2859400|\n",
      "|2021-10-25| 663.73999|675.880005|657.070007|671.659973|671.659973|3833500|\n",
      "|2021-10-26| 673.76001| 676.48999| 662.77002| 668.52002| 668.52002|2904800|\n",
      "|2021-11-04|685.890015|685.940002|     665.5|668.400024|668.400024|4865000|\n",
      "|2021-11-26|     675.0|676.409973|660.669983|665.640015|665.640015|2872500|\n",
      "|2021-10-22|651.809998|665.460022|651.809998|664.780029|664.780029|6186000|\n",
      "|2021-11-29|663.200012| 667.98999|658.289978|663.840027|663.840027|2529400|\n",
      "|2021-10-27|     669.0|671.409973|661.849976|662.919983|662.919983|2276900|\n",
      "|2021-11-22| 676.02002| 679.47998|656.469971|659.200012|659.200012|2764400|\n",
      "|2021-11-24| 658.01001|661.440002|651.099976|658.289978|658.289978|1867300|\n",
      "+----------+----------+----------+----------+----------+----------+-------+\n",
      "only showing top 20 rows\n",
      "\n"
     ]
    }
   ],
   "source": [
    "df.sort(\"Close\",ascending = False).show()"
   ]
  },
  {
   "cell_type": "markdown",
   "id": "94472c35",
   "metadata": {},
   "source": [
    "오름차순"
   ]
  },
  {
   "cell_type": "code",
   "execution_count": 25,
   "id": "46313460",
   "metadata": {},
   "outputs": [
    {
     "name": "stdout",
     "output_type": "stream",
     "text": [
      "+----------+--------+--------+--------+--------+---------+--------+\n",
      "|      Date|    Open|    High|     Low|   Close|Adj Close|  Volume|\n",
      "+----------+--------+--------+--------+--------+---------+--------+\n",
      "|2002-10-09|    0.41|0.410714|0.347143|0.372857| 0.372857| 5982200|\n",
      "|2002-10-08|0.410714|0.427857|0.390714|   0.405|    0.405| 4531800|\n",
      "|2002-10-07|    0.45|0.458571|0.382143|0.412143| 0.412143|15724800|\n",
      "|2002-10-16|0.529286|0.532857|0.442857|0.459286| 0.459286| 5800200|\n",
      "|2002-10-04|0.517857|0.531429|0.447143|0.468571| 0.468571| 8433600|\n",
      "|2002-10-11|0.508571|0.528571|0.446429|0.470714| 0.470714|13281800|\n",
      "|2002-10-10|0.377857|   0.525|0.346429|0.506429| 0.506429|13577200|\n",
      "|2002-10-03|0.569286|    0.57|0.489286|0.517857| 0.517857| 9765000|\n",
      "|2002-10-14|0.464286|   0.535|0.463571|0.534286| 0.534286| 5272400|\n",
      "|2002-10-15|0.542857|0.585714|0.542143|    0.55|     0.55| 4125800|\n",
      "|2002-10-17|0.472143|0.585714|0.471429|    0.55|     0.55| 7481600|\n",
      "|2002-11-12|     0.6|0.614286|0.572143|0.577857| 0.577857| 2191000|\n",
      "|2002-10-02|0.688571|0.688571|0.560714|0.578571| 0.578571| 9314200|\n",
      "|2002-10-24|0.606429|0.606429|0.553571|0.579286| 0.579286| 2431800|\n",
      "|2002-10-23|   0.625|   0.625|0.585714|0.589286| 0.589286| 3539200|\n",
      "|2002-11-07|0.632143|0.637857|0.592857|0.592857| 0.592857| 2585800|\n",
      "|2002-11-11|0.607143|0.607143|0.585714|0.600714| 0.600714|  371000|\n",
      "|2002-11-08|   0.605|0.612857|0.553571|0.610714| 0.610714| 4922400|\n",
      "|2002-11-14|0.642857|   0.645|0.618571|0.618571| 0.618571|  931000|\n",
      "|2002-10-22|0.635714|0.643571|0.617857|   0.625|    0.625| 4263000|\n",
      "+----------+--------+--------+--------+--------+---------+--------+\n",
      "only showing top 20 rows\n",
      "\n"
     ]
    }
   ],
   "source": [
    "df.sort(\"Close\",ascending = True).show()"
   ]
  },
  {
   "cell_type": "markdown",
   "id": "39b49ce8",
   "metadata": {},
   "source": [
    "새로운  DataFrame을 반환하기"
   ]
  },
  {
   "cell_type": "code",
   "execution_count": 26,
   "id": "895911a4",
   "metadata": {},
   "outputs": [
    {
     "name": "stdout",
     "output_type": "stream",
     "text": [
      "+----------+--------+--------+--------+--------+---------+---------+\n",
      "|      Date|    Open|    High|     Low|   Close|Adj Close|   Volume|\n",
      "+----------+--------+--------+--------+--------+---------+---------+\n",
      "|2002-05-23|1.156429|1.242857|1.145714|1.196429| 1.196429|104790000|\n",
      "|2002-05-24|1.214286|   1.225|1.197143|    1.21|     1.21| 11104800|\n",
      "|2002-05-28|1.213571|1.232143|1.157143|1.157143| 1.157143|  6609400|\n",
      "|2002-05-29|1.164286|1.164286|1.085714|1.103571| 1.103571|  6757800|\n",
      "|2002-05-30|1.107857|1.107857|1.071429|1.071429| 1.071429| 10154200|\n",
      "|2002-05-31|1.078571|1.078571|1.071429|1.076429| 1.076429|  8464400|\n",
      "|2002-06-03|    1.08|1.149286|1.076429|1.128571| 1.128571|  3151400|\n",
      "|2002-06-04|1.135714|    1.14|1.110714|1.117857| 1.117857|  3105200|\n",
      "|2002-06-05|1.110714|1.159286|1.107143|1.147143| 1.147143|  1531600|\n",
      "|2002-06-06|    1.15|1.232143|1.148571|1.182143| 1.182143|  2305800|\n",
      "|2002-06-07|1.177857|1.177857|1.103571|1.118571| 1.118571|  1369200|\n",
      "|2002-06-10|   1.135|   1.175|1.134286|1.156429| 1.156429|   484400|\n",
      "|2002-06-11|1.156429|1.188571|1.128571|1.153571| 1.153571|  1003800|\n",
      "|2002-06-12|1.153571|1.182143|1.089286|1.092857| 1.092857|  1799000|\n",
      "|2002-06-13|1.104286|1.122143|    1.08|1.082857| 1.082857|  2567600|\n",
      "|2002-06-14|1.082143|1.085714|    0.98|0.986429| 0.986429|  4783800|\n",
      "|2002-06-17|1.013571|1.059286|0.917857|0.922143| 0.922143|  4855200|\n",
      "|2002-06-18|0.938571|0.939286|0.842143|0.910714| 0.910714| 10808000|\n",
      "|2002-06-19|0.911429|0.996429|0.892857|0.951429| 0.951429|  5482400|\n",
      "|2002-06-20|0.971429|    1.04|    0.95|0.957143| 0.957143|  6111000|\n",
      "+----------+--------+--------+--------+--------+---------+---------+\n",
      "only showing top 20 rows\n",
      "\n"
     ]
    }
   ],
   "source": [
    "df.select(\"*\").show()"
   ]
  },
  {
   "cell_type": "code",
   "execution_count": 27,
   "id": "32b72efb",
   "metadata": {},
   "outputs": [
    {
     "name": "stdout",
     "output_type": "stream",
     "text": [
      "+--------+--------+\n",
      "|   Close|    Open|\n",
      "+--------+--------+\n",
      "|1.196429|1.156429|\n",
      "|    1.21|1.214286|\n",
      "|1.157143|1.213571|\n",
      "|1.103571|1.164286|\n",
      "|1.071429|1.107857|\n",
      "|1.076429|1.078571|\n",
      "|1.128571|    1.08|\n",
      "|1.117857|1.135714|\n",
      "|1.147143|1.110714|\n",
      "|1.182143|    1.15|\n",
      "|1.118571|1.177857|\n",
      "|1.156429|   1.135|\n",
      "|1.153571|1.156429|\n",
      "|1.092857|1.153571|\n",
      "|1.082857|1.104286|\n",
      "|0.986429|1.082143|\n",
      "|0.922143|1.013571|\n",
      "|0.910714|0.938571|\n",
      "|0.951429|0.911429|\n",
      "|0.957143|0.971429|\n",
      "+--------+--------+\n",
      "only showing top 20 rows\n",
      "\n"
     ]
    }
   ],
   "source": [
    "df.select(\"Close\",\"Open\").show()"
   ]
  },
  {
   "cell_type": "markdown",
   "id": "61d79452",
   "metadata": {},
   "source": [
    "시간대"
   ]
  },
  {
   "cell_type": "code",
   "execution_count": 28,
   "id": "410eaaa0",
   "metadata": {},
   "outputs": [],
   "source": [
    "from pyspark.sql.functions import format_number,dayofmonth,hour,dayofyear,month,year,weekofyear"
   ]
  },
  {
   "cell_type": "code",
   "execution_count": 29,
   "id": "e3befda7",
   "metadata": {},
   "outputs": [
    {
     "name": "stdout",
     "output_type": "stream",
     "text": [
      "+----------------+\n",
      "|dayofmonth(Date)|\n",
      "+----------------+\n",
      "|              23|\n",
      "|              24|\n",
      "|              28|\n",
      "|              29|\n",
      "|              30|\n",
      "|              31|\n",
      "|               3|\n",
      "|               4|\n",
      "|               5|\n",
      "|               6|\n",
      "|               7|\n",
      "|              10|\n",
      "|              11|\n",
      "|              12|\n",
      "|              13|\n",
      "|              14|\n",
      "|              17|\n",
      "|              18|\n",
      "|              19|\n",
      "|              20|\n",
      "+----------------+\n",
      "only showing top 20 rows\n",
      "\n"
     ]
    }
   ],
   "source": [
    "df.select(dayofmonth(df['Date'])).show()"
   ]
  },
  {
   "cell_type": "code",
   "execution_count": 30,
   "id": "740a9a30",
   "metadata": {},
   "outputs": [
    {
     "name": "stdout",
     "output_type": "stream",
     "text": [
      "+-----------+\n",
      "|month(Date)|\n",
      "+-----------+\n",
      "|          5|\n",
      "|          5|\n",
      "|          5|\n",
      "|          5|\n",
      "|          5|\n",
      "|          5|\n",
      "|          6|\n",
      "|          6|\n",
      "|          6|\n",
      "|          6|\n",
      "|          6|\n",
      "|          6|\n",
      "|          6|\n",
      "|          6|\n",
      "|          6|\n",
      "|          6|\n",
      "|          6|\n",
      "|          6|\n",
      "|          6|\n",
      "|          6|\n",
      "+-----------+\n",
      "only showing top 20 rows\n",
      "\n"
     ]
    }
   ],
   "source": [
    "df.select(month(df['Date'])).show()"
   ]
  },
  {
   "cell_type": "code",
   "execution_count": 31,
   "id": "dc1902a0",
   "metadata": {},
   "outputs": [
    {
     "name": "stdout",
     "output_type": "stream",
     "text": [
      "+----------+\n",
      "|year(Date)|\n",
      "+----------+\n",
      "|      2002|\n",
      "|      2002|\n",
      "|      2002|\n",
      "|      2002|\n",
      "|      2002|\n",
      "|      2002|\n",
      "|      2002|\n",
      "|      2002|\n",
      "|      2002|\n",
      "|      2002|\n",
      "|      2002|\n",
      "|      2002|\n",
      "|      2002|\n",
      "|      2002|\n",
      "|      2002|\n",
      "|      2002|\n",
      "|      2002|\n",
      "|      2002|\n",
      "|      2002|\n",
      "|      2002|\n",
      "+----------+\n",
      "only showing top 20 rows\n",
      "\n"
     ]
    }
   ],
   "source": [
    "df.select(year(df['Date'])).show()"
   ]
  },
  {
   "cell_type": "markdown",
   "id": "98001ff8",
   "metadata": {},
   "source": [
    "columns추가"
   ]
  },
  {
   "cell_type": "code",
   "execution_count": 32,
   "id": "620777d9",
   "metadata": {},
   "outputs": [
    {
     "name": "stdout",
     "output_type": "stream",
     "text": [
      "+----------+--------+--------+--------+--------+---------+---------+----+\n",
      "|      Date|    Open|    High|     Low|   Close|Adj Close|   Volume|Year|\n",
      "+----------+--------+--------+--------+--------+---------+---------+----+\n",
      "|2002-05-23|1.156429|1.242857|1.145714|1.196429| 1.196429|104790000|2002|\n",
      "|2002-05-24|1.214286|   1.225|1.197143|    1.21|     1.21| 11104800|2002|\n",
      "|2002-05-28|1.213571|1.232143|1.157143|1.157143| 1.157143|  6609400|2002|\n",
      "|2002-05-29|1.164286|1.164286|1.085714|1.103571| 1.103571|  6757800|2002|\n",
      "|2002-05-30|1.107857|1.107857|1.071429|1.071429| 1.071429| 10154200|2002|\n",
      "|2002-05-31|1.078571|1.078571|1.071429|1.076429| 1.076429|  8464400|2002|\n",
      "|2002-06-03|    1.08|1.149286|1.076429|1.128571| 1.128571|  3151400|2002|\n",
      "|2002-06-04|1.135714|    1.14|1.110714|1.117857| 1.117857|  3105200|2002|\n",
      "|2002-06-05|1.110714|1.159286|1.107143|1.147143| 1.147143|  1531600|2002|\n",
      "|2002-06-06|    1.15|1.232143|1.148571|1.182143| 1.182143|  2305800|2002|\n",
      "|2002-06-07|1.177857|1.177857|1.103571|1.118571| 1.118571|  1369200|2002|\n",
      "|2002-06-10|   1.135|   1.175|1.134286|1.156429| 1.156429|   484400|2002|\n",
      "|2002-06-11|1.156429|1.188571|1.128571|1.153571| 1.153571|  1003800|2002|\n",
      "|2002-06-12|1.153571|1.182143|1.089286|1.092857| 1.092857|  1799000|2002|\n",
      "|2002-06-13|1.104286|1.122143|    1.08|1.082857| 1.082857|  2567600|2002|\n",
      "|2002-06-14|1.082143|1.085714|    0.98|0.986429| 0.986429|  4783800|2002|\n",
      "|2002-06-17|1.013571|1.059286|0.917857|0.922143| 0.922143|  4855200|2002|\n",
      "|2002-06-18|0.938571|0.939286|0.842143|0.910714| 0.910714| 10808000|2002|\n",
      "|2002-06-19|0.911429|0.996429|0.892857|0.951429| 0.951429|  5482400|2002|\n",
      "|2002-06-20|0.971429|    1.04|    0.95|0.957143| 0.957143|  6111000|2002|\n",
      "+----------+--------+--------+--------+--------+---------+---------+----+\n",
      "only showing top 20 rows\n",
      "\n"
     ]
    }
   ],
   "source": [
    "df.withColumn('Year',year(df['Date'])).show()"
   ]
  },
  {
   "cell_type": "code",
   "execution_count": 33,
   "id": "f62b226a",
   "metadata": {},
   "outputs": [],
   "source": [
    "df_1=df.withColumn('Year',year(df['Date']))"
   ]
  },
  {
   "cell_type": "code",
   "execution_count": 34,
   "id": "94e85ca8",
   "metadata": {},
   "outputs": [
    {
     "name": "stdout",
     "output_type": "stream",
     "text": [
      "root\n",
      " |-- Date: string (nullable = true)\n",
      " |-- Open: double (nullable = true)\n",
      " |-- High: double (nullable = true)\n",
      " |-- Low: double (nullable = true)\n",
      " |-- Close: double (nullable = true)\n",
      " |-- Adj Close: double (nullable = true)\n",
      " |-- Volume: integer (nullable = true)\n",
      " |-- Year: integer (nullable = true)\n",
      "\n"
     ]
    }
   ],
   "source": [
    "df_1.printSchema()"
   ]
  },
  {
   "cell_type": "markdown",
   "id": "ea7dcbd6",
   "metadata": {},
   "source": [
    "연도별 평균값을 출력하기"
   ]
  },
  {
   "cell_type": "code",
   "execution_count": 35,
   "id": "36a4be96",
   "metadata": {},
   "outputs": [
    {
     "name": "stdout",
     "output_type": "stream",
     "text": [
      "+---------+------------------+\n",
      "|avg(Year)|        avg(Close)|\n",
      "+---------+------------------+\n",
      "|   2003.0|2.0812046626984118|\n",
      "|   2007.0| 3.123932856573706|\n",
      "|   2018.0| 319.2903190079681|\n",
      "|   2015.0| 91.89567448809534|\n",
      "|   2006.0|  3.69099603187251|\n",
      "|   2022.0| 356.0423717525773|\n",
      "|   2013.0|35.271830920634905|\n",
      "|   2014.0|57.495119063492076|\n",
      "|   2019.0| 328.8723800674604|\n",
      "|   2004.0|3.4134296944444427|\n",
      "|   2020.0| 446.8272328695651|\n",
      "|   2012.0|11.855057135999996|\n",
      "|   2009.0| 6.322035134920639|\n",
      "|   2016.0|102.03035719841262|\n",
      "|   2005.0|2.5972618809523786|\n",
      "|   2010.0|  16.8241722936508|\n",
      "|   2011.0|27.493718773809533|\n",
      "|   2008.0| 4.094669632411067|\n",
      "|   2017.0|165.37426305976106|\n",
      "|   2002.0|0.8501716363636362|\n",
      "+---------+------------------+\n",
      "only showing top 20 rows\n",
      "\n"
     ]
    }
   ],
   "source": [
    "df_1.groupBy('Year').mean()[['avg(Year)','avg(Close)']].show()"
   ]
  },
  {
   "cell_type": "code",
   "execution_count": 36,
   "id": "0fb975c4",
   "metadata": {},
   "outputs": [
    {
     "name": "stdout",
     "output_type": "stream",
     "text": [
      "+---------+------------------+\n",
      "|avg(Year)|         avg(Open)|\n",
      "+---------+------------------+\n",
      "|   2003.0| 2.072242035714286|\n",
      "|   2007.0| 3.123733685258964|\n",
      "|   2018.0|319.62055821912367|\n",
      "|   2015.0| 91.79801591666669|\n",
      "|   2006.0| 3.692253852589639|\n",
      "|   2022.0|358.08010285567013|\n",
      "|   2013.0| 35.24976188095238|\n",
      "|   2014.0| 57.51611119047618|\n",
      "|   2019.0|328.63706417857134|\n",
      "|   2004.0| 3.424325400793648|\n",
      "|   2020.0|446.14146189328073|\n",
      "|   2012.0|11.827480000000008|\n",
      "|   2009.0| 6.302471670634923|\n",
      "|   2016.0|102.00051615873015|\n",
      "|   2005.0| 2.596978468253969|\n",
      "|   2010.0|16.777222234126974|\n",
      "|   2011.0|27.499665468253962|\n",
      "|   2008.0| 4.087244462450594|\n",
      "|   2017.0|165.40231063346616|\n",
      "|   2002.0|0.8559740064935066|\n",
      "+---------+------------------+\n",
      "only showing top 20 rows\n",
      "\n"
     ]
    }
   ],
   "source": [
    "df_1.groupBy('Year').mean()[['avg(Year)','avg(Open)']].show()"
   ]
  },
  {
   "cell_type": "code",
   "execution_count": 37,
   "id": "15798812",
   "metadata": {},
   "outputs": [
    {
     "name": "stdout",
     "output_type": "stream",
     "text": [
      "+---------+------------------+------------------+------------------+------------------+\n",
      "|avg(Year)|         avg(High)|          avg(Low)|         avg(Open)|        avg(Close)|\n",
      "+---------+------------------+------------------+------------------+------------------+\n",
      "|   2003.0|2.1403741587301597|2.0166780198412706| 2.072242035714286|2.0812046626984118|\n",
      "|   2007.0|3.1786169920318743|3.0660956454183275| 3.123733685258964| 3.123932856573706|\n",
      "|   2018.0| 325.2193224023904| 313.1873296175297|319.62055821912367| 319.2903190079681|\n",
      "|   2015.0| 93.41229572619046| 90.20531746031753| 91.79801591666669| 91.89567448809534|\n",
      "|   2006.0| 3.753767772908363| 3.631735948207172| 3.692253852589639|  3.69099603187251|\n",
      "|   2022.0| 364.6120613298971|348.40979402061856|358.08010285567013| 356.0423717525773|\n",
      "|   2013.0| 35.87565760317461| 34.62878676190476| 35.24976188095238|35.271830920634905|\n",
      "|   2014.0|58.287222087301565| 56.65660429761905| 57.51611119047618|57.495119063492076|\n",
      "|   2019.0| 332.9986906269843| 324.0979758174598|328.63706417857134| 328.8723800674604|\n",
      "|   2004.0|3.5079223611111128|3.3290249246031767| 3.424325400793648|3.4134296944444427|\n",
      "|   2020.0| 454.3200392569173|438.36893450197607|446.14146189328073| 446.8272328695651|\n",
      "|   2012.0| 12.12419998399999|11.574622852000005|11.827480000000008|11.855057135999996|\n",
      "|   2009.0| 6.434314075396825|6.1888548849206355| 6.302471670634923| 6.322035134920639|\n",
      "|   2016.0|103.56952369444448|100.42674607142855|102.00051615873015|102.03035719841262|\n",
      "|   2005.0| 2.654183698412699|2.5403684761904763| 2.596978468253969|2.5972618809523786|\n",
      "|   2010.0|17.138815281746044| 16.46024945238095|16.777222234126974|  16.8241722936508|\n",
      "|   2011.0|28.021150853174603|26.951269948412705|27.499665468253962|27.493718773809533|\n",
      "|   2008.0| 4.199983047430832| 3.981874644268775| 4.087244462450594| 4.094669632411067|\n",
      "|   2017.0|167.04872499601603|163.48701196414348|165.40231063346616|165.37426305976106|\n",
      "|   2002.0|0.8840630714285718|0.8182513311688313|0.8559740064935066|0.8501716363636362|\n",
      "+---------+------------------+------------------+------------------+------------------+\n",
      "only showing top 20 rows\n",
      "\n"
     ]
    }
   ],
   "source": [
    "df_1.groupBy('Year').mean()[['avg(Year)','avg(High)','avg(Low)','avg(Open)','avg(Close)']].show()"
   ]
  },
  {
   "cell_type": "code",
   "execution_count": 38,
   "id": "c38d4633",
   "metadata": {},
   "outputs": [],
   "source": [
    "from pyspark.ml.classification import RandomForestClassifier\n",
    "from pyspark.ml.linalg import Vectors\n",
    "from pyspark.ml.feature import VectorAssembler"
   ]
  },
  {
   "cell_type": "code",
   "execution_count": 39,
   "id": "826beaed",
   "metadata": {},
   "outputs": [
    {
     "data": {
      "text/plain": [
       "['Date', 'Open', 'High', 'Low', 'Close', 'Adj Close', 'Volume']"
      ]
     },
     "execution_count": 39,
     "metadata": {},
     "output_type": "execute_result"
    }
   ],
   "source": [
    "df.columns"
   ]
  },
  {
   "cell_type": "markdown",
   "id": "e6ac6471",
   "metadata": {},
   "source": [
    "특징 벡터 열에 넣기"
   ]
  },
  {
   "cell_type": "code",
   "execution_count": 40,
   "id": "ed5ca6ee",
   "metadata": {},
   "outputs": [],
   "source": [
    "assember=VectorAssembler(inputCols=['Open', 'High', 'Low', 'Close','Volume'],outputCol='features')"
   ]
  },
  {
   "cell_type": "code",
   "execution_count": 41,
   "id": "72fe80a3",
   "metadata": {},
   "outputs": [],
   "source": [
    "output=assember.transform(df)"
   ]
  },
  {
   "cell_type": "code",
   "execution_count": 42,
   "id": "1bdb6ce3",
   "metadata": {},
   "outputs": [
    {
     "name": "stdout",
     "output_type": "stream",
     "text": [
      "+----------+--------+--------+--------+--------+---------+---------+--------------------+\n",
      "|      Date|    Open|    High|     Low|   Close|Adj Close|   Volume|            features|\n",
      "+----------+--------+--------+--------+--------+---------+---------+--------------------+\n",
      "|2002-05-23|1.156429|1.242857|1.145714|1.196429| 1.196429|104790000|[1.156429,1.24285...|\n",
      "|2002-05-24|1.214286|   1.225|1.197143|    1.21|     1.21| 11104800|[1.214286,1.225,1...|\n",
      "|2002-05-28|1.213571|1.232143|1.157143|1.157143| 1.157143|  6609400|[1.213571,1.23214...|\n",
      "|2002-05-29|1.164286|1.164286|1.085714|1.103571| 1.103571|  6757800|[1.164286,1.16428...|\n",
      "|2002-05-30|1.107857|1.107857|1.071429|1.071429| 1.071429| 10154200|[1.107857,1.10785...|\n",
      "|2002-05-31|1.078571|1.078571|1.071429|1.076429| 1.076429|  8464400|[1.078571,1.07857...|\n",
      "|2002-06-03|    1.08|1.149286|1.076429|1.128571| 1.128571|  3151400|[1.08,1.149286,1....|\n",
      "|2002-06-04|1.135714|    1.14|1.110714|1.117857| 1.117857|  3105200|[1.135714,1.14,1....|\n",
      "|2002-06-05|1.110714|1.159286|1.107143|1.147143| 1.147143|  1531600|[1.110714,1.15928...|\n",
      "|2002-06-06|    1.15|1.232143|1.148571|1.182143| 1.182143|  2305800|[1.15,1.232143,1....|\n",
      "|2002-06-07|1.177857|1.177857|1.103571|1.118571| 1.118571|  1369200|[1.177857,1.17785...|\n",
      "|2002-06-10|   1.135|   1.175|1.134286|1.156429| 1.156429|   484400|[1.135,1.175,1.13...|\n",
      "|2002-06-11|1.156429|1.188571|1.128571|1.153571| 1.153571|  1003800|[1.156429,1.18857...|\n",
      "|2002-06-12|1.153571|1.182143|1.089286|1.092857| 1.092857|  1799000|[1.153571,1.18214...|\n",
      "|2002-06-13|1.104286|1.122143|    1.08|1.082857| 1.082857|  2567600|[1.104286,1.12214...|\n",
      "|2002-06-14|1.082143|1.085714|    0.98|0.986429| 0.986429|  4783800|[1.082143,1.08571...|\n",
      "|2002-06-17|1.013571|1.059286|0.917857|0.922143| 0.922143|  4855200|[1.013571,1.05928...|\n",
      "|2002-06-18|0.938571|0.939286|0.842143|0.910714| 0.910714| 10808000|[0.938571,0.93928...|\n",
      "|2002-06-19|0.911429|0.996429|0.892857|0.951429| 0.951429|  5482400|[0.911429,0.99642...|\n",
      "|2002-06-20|0.971429|    1.04|    0.95|0.957143| 0.957143|  6111000|[0.971429,1.04,0....|\n",
      "+----------+--------+--------+--------+--------+---------+---------+--------------------+\n",
      "only showing top 20 rows\n",
      "\n"
     ]
    }
   ],
   "source": [
    "output.show()"
   ]
  },
  {
   "cell_type": "code",
   "execution_count": 43,
   "id": "923d0558",
   "metadata": {},
   "outputs": [],
   "source": [
    "from pyspark.ml.feature import StandardScaler"
   ]
  },
  {
   "cell_type": "markdown",
   "id": "f3cfef90",
   "metadata": {},
   "source": [
    "초기화"
   ]
  },
  {
   "cell_type": "code",
   "execution_count": 44,
   "id": "4b8bab17",
   "metadata": {},
   "outputs": [],
   "source": [
    "standardScaler = StandardScaler(inputCol=\"features\", outputCol=\"features_scaled\")"
   ]
  },
  {
   "cell_type": "markdown",
   "id": "cf2018d0",
   "metadata": {},
   "source": [
    "Fit the DataFrame"
   ]
  },
  {
   "cell_type": "code",
   "execution_count": 45,
   "id": "6a3f09b4",
   "metadata": {},
   "outputs": [],
   "source": [
    "scaled_df = standardScaler.fit(output).transform(output)"
   ]
  },
  {
   "cell_type": "code",
   "execution_count": 46,
   "id": "ecd70644",
   "metadata": {},
   "outputs": [
    {
     "name": "stdout",
     "output_type": "stream",
     "text": [
      "+-----------------------------------------------+----------------------------------------------------------------------------------------------------------+\n",
      "|features                                       |features_scaled                                                                                           |\n",
      "+-----------------------------------------------+----------------------------------------------------------------------------------------------------------+\n",
      "|[1.156429,1.242857,1.145714,1.196429,1.0479E8] |[0.006848355688664092,0.007257037054840811,0.0068919298542069055,0.007088368489546691,5.441032605628423]  |\n",
      "|[1.214286,1.225,1.197143,1.21,1.11048E7]       |[0.007190983999679329,0.007152770103221845,0.007201295944236362,0.007168771295539891,0.5765968019752125]  |\n",
      "|[1.213571,1.232143,1.157143,1.157143,6609400.0]|[0.007186749780096981,0.007194478051668632,0.006960679879347326,0.006855614482012328,0.34318122820536784] |\n",
      "|[1.164286,1.164286,1.085714,1.103571,6757800.0]|[0.0068948847281864786,0.006798261299918162,0.006531005756873353,0.006538221576355582,0.3508866317617688] |\n",
      "|[1.107857,1.107857,1.071429,1.071429,1.01542E7]|[0.00656071301236508,0.00646877259448575,0.006445075744699856,0.0063477929424867845,0.5272386037224175]   |\n",
      "|[1.078571,1.078571,1.071429,1.076429,8464400.0]|[0.006387281747066286,0.006297771757552725,0.006445075744699856,0.006377415964369182,0.43949877266038]    |\n",
      "|[1.08,1.149286,1.076429,1.128571,3151400.0]    |[0.006395744264245553,0.0067106763598787115,0.006475152752810986,0.006686336685767562,0.16363078684394897]|\n",
      "|[1.135714,1.14,1.110714,1.117857,3105200.0]    |[0.006725681760484605,0.006656455442998288,0.006681390797429,0.006622860474477964,0.1612319347933713]     |\n",
      "|[1.110714,1.159286,1.107143,1.147143,1531600.0]|[0.00657763212473818,0.006769066319905012,0.006659909798236031,0.006796368438247535,0.07952558010096854]  |\n",
      "|[1.15,1.232143,1.148571,1.182143,2305800.0]    |[0.006810283244335542,0.007194478051668632,0.006909115856641605,0.007003729591424308,0.11972452506973964] |\n",
      "+-----------------------------------------------+----------------------------------------------------------------------------------------------------------+\n",
      "only showing top 10 rows\n",
      "\n"
     ]
    }
   ],
   "source": [
    "scaled_df.select(\"features\", \"features_scaled\").show(10, truncate=False)"
   ]
  },
  {
   "cell_type": "code",
   "execution_count": 47,
   "id": "eb30b26a",
   "metadata": {},
   "outputs": [],
   "source": [
    "training,testing=scaled_df.randomSplit([0.7,0.3])"
   ]
  },
  {
   "cell_type": "code",
   "execution_count": 48,
   "id": "0e38af97",
   "metadata": {},
   "outputs": [
    {
     "data": {
      "text/plain": [
       "['Date',\n",
       " 'Open',\n",
       " 'High',\n",
       " 'Low',\n",
       " 'Close',\n",
       " 'Adj Close',\n",
       " 'Volume',\n",
       " 'features',\n",
       " 'features_scaled']"
      ]
     },
     "execution_count": 48,
     "metadata": {},
     "output_type": "execute_result"
    }
   ],
   "source": [
    "training.columns"
   ]
  },
  {
   "cell_type": "code",
   "execution_count": 49,
   "id": "a5e39848",
   "metadata": {},
   "outputs": [],
   "source": [
    "from pyspark.ml.regression import LinearRegression"
   ]
  },
  {
   "cell_type": "code",
   "execution_count": 50,
   "id": "ea46ca8f",
   "metadata": {},
   "outputs": [],
   "source": [
    "lr = (LinearRegression(featuresCol='features_scaled', labelCol=\"Volume\", predictionCol='predictionVolume', \n",
    "                               maxIter=10, regParam=0.3, elasticNetParam=0.8, standardization=False))"
   ]
  },
  {
   "cell_type": "code",
   "execution_count": 51,
   "id": "7952eb03",
   "metadata": {},
   "outputs": [],
   "source": [
    "lr_model=lr.fit(training)"
   ]
  },
  {
   "cell_type": "markdown",
   "id": "7eff3e12",
   "metadata": {},
   "source": [
    "모델에 대한 계수"
   ]
  },
  {
   "cell_type": "code",
   "execution_count": 52,
   "id": "41fb34d9",
   "metadata": {},
   "outputs": [
    {
     "data": {
      "text/plain": [
       "DenseVector([0.0, 25144.7818, -25348.7637, 632.1706, 19259129.8419])"
      ]
     },
     "execution_count": 52,
     "metadata": {},
     "output_type": "execute_result"
    }
   ],
   "source": [
    "lr_model.coefficients"
   ]
  },
  {
   "cell_type": "markdown",
   "id": "48708b07",
   "metadata": {},
   "source": [
    "Intercept for the model"
   ]
  },
  {
   "cell_type": "code",
   "execution_count": 53,
   "id": "9b05e945",
   "metadata": {},
   "outputs": [
    {
     "data": {
      "text/plain": [
       "-258.0666725422064"
      ]
     },
     "execution_count": 53,
     "metadata": {},
     "output_type": "execute_result"
    }
   ],
   "source": [
    "lr_model.intercept"
   ]
  },
  {
   "cell_type": "markdown",
   "id": "193ff097",
   "metadata": {},
   "source": [
    "예측 생성"
   ]
  },
  {
   "cell_type": "code",
   "execution_count": 54,
   "id": "8367ffd6",
   "metadata": {},
   "outputs": [],
   "source": [
    "predictions=lr_model.transform(testing)"
   ]
  },
  {
   "cell_type": "code",
   "execution_count": 55,
   "id": "28bcaf19",
   "metadata": {},
   "outputs": [],
   "source": [
    "predictions_Label=predictions.select('Volume','predictionVolume')"
   ]
  },
  {
   "cell_type": "code",
   "execution_count": 56,
   "id": "9cb724ba",
   "metadata": {},
   "outputs": [
    {
     "name": "stdout",
     "output_type": "stream",
     "text": [
      "+--------+--------------------+\n",
      "|  Volume|    predictionVolume|\n",
      "+--------+--------------------+\n",
      "| 3151400|  3151137.3315662243|\n",
      "| 3105200|  3104930.8970722947|\n",
      "| 1799000|  1798745.8248080227|\n",
      "|10808000|1.0807708778529746E7|\n",
      "| 5482400|   5482132.283389509|\n",
      "| 4585000|    4584728.48672478|\n",
      "| 4239200|   4238947.326342929|\n",
      "| 1261400|  1261147.4452286763|\n",
      "| 2899400|   2899135.772138103|\n",
      "| 1577800|  1577545.2653252652|\n",
      "| 7046200|   7045940.978122012|\n",
      "| 4529000|    4528733.06041726|\n",
      "| 1828400|  1828142.5645743497|\n",
      "| 2779000|  2778736.2769785183|\n",
      "| 2963800|   2963538.001730383|\n",
      "| 2644600|   2644337.576784915|\n",
      "| 4984000|   4983735.257726166|\n",
      "| 2395400|   2395144.808959044|\n",
      "| 1419600|  1419338.9229712018|\n",
      "| 4746000|   4745729.125359321|\n",
      "+--------+--------------------+\n",
      "only showing top 20 rows\n",
      "\n"
     ]
    }
   ],
   "source": [
    "predictions_Label.show()"
   ]
  },
  {
   "cell_type": "code",
   "execution_count": 57,
   "id": "90eabb5d",
   "metadata": {},
   "outputs": [],
   "source": [
    "from pyspark.ml.regression import LinearRegressionTrainingSummary"
   ]
  },
  {
   "cell_type": "markdown",
   "id": "53eb9f5e",
   "metadata": {},
   "source": [
    "RootMeanSquaredError는 예측 값과 관측 값 또는 알려진 값을 비교하는 두 데이터 세트 사이에 얼마나 많은 오류가 있는지 측정한다. RootMeanSquaredError 값이 작을수록 예측값과 관측값이 더 가깝다"
   ]
  },
  {
   "cell_type": "code",
   "execution_count": 58,
   "id": "9d73e7c9",
   "metadata": {},
   "outputs": [
    {
     "name": "stdout",
     "output_type": "stream",
     "text": [
      "Error: 671.3595979632565\n"
     ]
    }
   ],
   "source": [
    "print(\"Error: {0}\".format(lr_model.summary.rootMeanSquaredError) )"
   ]
  },
  {
   "cell_type": "markdown",
   "id": "b219ffe2",
   "metadata": {},
   "source": [
    "2차 손실의 예상 값에 해당하는 위험 함수인 평균 제곱 오차를 반환한다"
   ]
  },
  {
   "cell_type": "code",
   "execution_count": 59,
   "id": "dcadc8c7",
   "metadata": {},
   "outputs": [
    {
     "name": "stdout",
     "output_type": "stream",
     "text": [
      "Absolute: 423.901720737588\n"
     ]
    }
   ],
   "source": [
    "print(\"Absolute: {0}\".format(lr_model.summary.meanAbsoluteError))"
   ]
  },
  {
   "cell_type": "markdown",
   "id": "8215df91",
   "metadata": {},
   "source": [
    "결정 계수는 데이터가 적합 회귀선에 얼마나 가까운지를 보여주는 측도이다"
   ]
  },
  {
   "cell_type": "code",
   "execution_count": 60,
   "id": "41a633d4",
   "metadata": {},
   "outputs": [
    {
     "name": "stdout",
     "output_type": "stream",
     "text": [
      "R2: 0.9999999988139813\n"
     ]
    }
   ],
   "source": [
    "print(\"R2: {0}\".format(lr_model.summary.r2))"
   ]
  },
  {
   "cell_type": "code",
   "execution_count": 61,
   "id": "2fcb4b14",
   "metadata": {},
   "outputs": [],
   "source": [
    "from pyspark.ml.evaluation import RegressionEvaluator"
   ]
  },
  {
   "cell_type": "markdown",
   "id": "a4082100",
   "metadata": {},
   "source": [
    "RootMeanSquaredError"
   ]
  },
  {
   "cell_type": "code",
   "execution_count": 62,
   "id": "0d8c216b",
   "metadata": {},
   "outputs": [
    {
     "name": "stdout",
     "output_type": "stream",
     "text": [
      "RMSE: 622.6791947093359\n"
     ]
    }
   ],
   "source": [
    "evaluator = RegressionEvaluator(predictionCol=\"predictionVolume\", labelCol='Volume', metricName='rmse')\n",
    "print(\"RMSE: {0}\".format(evaluator.evaluate(predictions_Label)))"
   ]
  },
  {
   "cell_type": "markdown",
   "id": "cd367765",
   "metadata": {},
   "source": [
    "MeanAbsoluteError"
   ]
  },
  {
   "cell_type": "code",
   "execution_count": 63,
   "id": "a2837318",
   "metadata": {},
   "outputs": [
    {
     "name": "stdout",
     "output_type": "stream",
     "text": [
      "MAE: 401.4248368858724\n"
     ]
    }
   ],
   "source": [
    "evaluator = RegressionEvaluator(predictionCol=\"predictionVolume\", labelCol='Volume', metricName='mae')\n",
    "print(\"MAE: {0}\".format(evaluator.evaluate(predictions_Label)))"
   ]
  },
  {
   "cell_type": "markdown",
   "id": "3a01371c",
   "metadata": {},
   "source": [
    "R2"
   ]
  },
  {
   "cell_type": "code",
   "execution_count": 64,
   "id": "b31a4148",
   "metadata": {},
   "outputs": [
    {
     "name": "stdout",
     "output_type": "stream",
     "text": [
      "R2: 0.9999999988846489\n"
     ]
    }
   ],
   "source": [
    "evaluator = RegressionEvaluator(predictionCol=\"predictionVolume\", labelCol='Volume', metricName='r2')\n",
    "print(\"R2: {0}\".format(evaluator.evaluate(predictions_Label)))"
   ]
  },
  {
   "cell_type": "code",
   "execution_count": 67,
   "id": "7e73fe7b",
   "metadata": {},
   "outputs": [],
   "source": [
    "from pyspark.ml.feature import MinMaxScaler"
   ]
  },
  {
   "cell_type": "markdown",
   "id": "bed89593",
   "metadata": {},
   "source": [
    "MinMaxScaler - 표준화"
   ]
  },
  {
   "cell_type": "code",
   "execution_count": 70,
   "id": "39ff5f8a",
   "metadata": {},
   "outputs": [],
   "source": [
    "min_max=MinMaxScaler(inputCol='features',outputCol='scaler_features')"
   ]
  },
  {
   "cell_type": "code",
   "execution_count": 71,
   "id": "3b5efb0b",
   "metadata": {},
   "outputs": [],
   "source": [
    "scaler=min_max.fit(output).transform(output)"
   ]
  },
  {
   "cell_type": "code",
   "execution_count": 72,
   "id": "2f94d27c",
   "metadata": {
    "scrolled": true
   },
   "outputs": [
    {
     "name": "stdout",
     "output_type": "stream",
     "text": [
      "+--------------------+--------------------+\n",
      "|            features|     scaler_features|\n",
      "+--------------------+--------------------+\n",
      "|[1.156429,1.24285...|[0.00112514937903...|\n",
      "|[1.214286,1.225,1...|[0.00120876112929...|\n",
      "|[1.213571,1.23214...|[0.00120772785066...|\n",
      "|[1.164286,1.16428...|[0.00113650388275...|\n",
      "|[1.107857,1.10785...|[0.00105495579945...|\n",
      "|[1.078571,1.07857...|[0.00101263328501...|\n",
      "|[1.08,1.149286,1....|[0.00101469839711...|\n",
      "|[1.135714,1.14,1....|[0.00109521320179...|\n",
      "|[1.110714,1.15928...|[0.00105908457852...|\n",
      "|[1.15,1.232143,1....|[0.00111585854227...|\n",
      "|[1.177857,1.17785...|[0.00115611594460...|\n",
      "|[1.135,1.175,1.13...|[0.00109418136831...|\n",
      "|[1.156429,1.18857...|[0.00112514937903...|\n",
      "|[1.153571,1.18214...|[0.00112101915481...|\n",
      "|[1.104286,1.12214...|[0.00104979518690...|\n",
      "|[1.082143,1.08571...|[0.00101779534270...|\n",
      "|[1.013571,1.05928...|[9.18698864513065...|\n",
      "|[0.938571,0.93928...|[8.10312994706077...|\n",
      "|[0.911429,0.99642...|[7.71088870995393...|\n",
      "|[0.971429,1.04,0....|[8.57797566840984...|\n",
      "+--------------------+--------------------+\n",
      "only showing top 20 rows\n",
      "\n"
     ]
    }
   ],
   "source": [
    "scaler.select('features','scaler_features').show()"
   ]
  },
  {
   "cell_type": "code",
   "execution_count": 73,
   "id": "b670ffac",
   "metadata": {},
   "outputs": [
    {
     "data": {
      "text/plain": [
       "['Date',\n",
       " 'Open',\n",
       " 'High',\n",
       " 'Low',\n",
       " 'Close',\n",
       " 'Adj Close',\n",
       " 'Volume',\n",
       " 'features',\n",
       " 'scaler_features']"
      ]
     },
     "execution_count": 73,
     "metadata": {},
     "output_type": "execute_result"
    }
   ],
   "source": [
    "scaler.columns"
   ]
  },
  {
   "cell_type": "code",
   "execution_count": null,
   "id": "42578755",
   "metadata": {},
   "outputs": [],
   "source": []
  }
 ],
 "metadata": {
  "kernelspec": {
   "display_name": "Python 3.9.6 64-bit (system)",
   "language": "python",
   "name": "python3"
  },
  "language_info": {
   "codemirror_mode": {
    "name": "ipython",
    "version": 3
   },
   "file_extension": ".py",
   "mimetype": "text/x-python",
   "name": "python",
   "nbconvert_exporter": "python",
   "pygments_lexer": "ipython3",
   "version": "3.9.6"
  },
  "vscode": {
   "interpreter": {
    "hash": "2a8dfe095fce2b5e88c64a2c3ee084c8e0e0d70b23e7b95b1cfb538be294c5c8"
   }
  }
 },
 "nbformat": 4,
 "nbformat_minor": 5
}
